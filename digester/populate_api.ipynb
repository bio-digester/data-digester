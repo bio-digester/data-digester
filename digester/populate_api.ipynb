{
 "cells": [
  {
   "cell_type": "code",
   "execution_count": 1,
   "metadata": {},
   "outputs": [],
   "source": [
    "import requests \n",
    "\n",
    "url_optimize = 'http://localhost:8000/api/optimize/'\n",
    "url_samples = 'http://localhost:8000/api/samples/'\n",
    "url_predict = 'http://localhost:8000/api/predict/'"
   ]
  },
  {
   "cell_type": "markdown",
   "metadata": {},
   "source": [
    "## Get optimize"
   ]
  },
  {
   "cell_type": "code",
   "execution_count": null,
   "metadata": {},
   "outputs": [],
   "source": [
    "response = requests.get(url_optimize)\n",
    "print(response.json())"
   ]
  },
  {
   "cell_type": "markdown",
   "metadata": {},
   "source": [
    "## Get samples"
   ]
  },
  {
   "cell_type": "code",
   "execution_count": 3,
   "metadata": {},
   "outputs": [
    {
     "name": "stdout",
     "output_type": "stream",
     "text": [
      "[]\n"
     ]
    }
   ],
   "source": [
    "response = requests.get(url_samples) \n",
    "print(response.json())"
   ]
  },
  {
   "cell_type": "markdown",
   "metadata": {},
   "source": [
    "## Drop table content"
   ]
  },
  {
   "cell_type": "code",
   "execution_count": null,
   "metadata": {},
   "outputs": [],
   "source": [
    "#Django bash\n",
    "#from api.models import Biodigester\n",
    "\n",
    "#Biodigester.objects.all().delete()"
   ]
  },
  {
   "cell_type": "markdown",
   "metadata": {},
   "source": [
    "## Post samples"
   ]
  },
  {
   "cell_type": "code",
   "execution_count": null,
   "metadata": {},
   "outputs": [],
   "source": [
    "import numpy\n",
    "\n",
    "NUMBER_SAMPLES = 10\n",
    "\n",
    "water_flow_samples = numpy.around(1 * numpy.random.rand(NUMBER_SAMPLES), decimals=3)\n",
    "temperature_samples = numpy.around(1 * numpy.random.rand(NUMBER_SAMPLES), decimals=3)\n",
    "internal_pressure_samples = numpy.around(1 * numpy.random.rand(NUMBER_SAMPLES), decimals=3)\n",
    "ph_samples = numpy.around(1 * numpy.random.rand(NUMBER_SAMPLES), decimals=3)\n",
    "volume_samples = numpy.around(1 * numpy.random.rand(NUMBER_SAMPLES), decimals=3)\n",
    "gas_production_samples = numpy.around(1 * numpy.random.rand(NUMBER_SAMPLES), decimals=3)\n",
    "\n",
    "print(water_flow_samples)"
   ]
  },
  {
   "cell_type": "code",
   "execution_count": null,
   "metadata": {},
   "outputs": [],
   "source": [
    "all_samples = []\n",
    "\n",
    "for i in range(0, NUMBER_SAMPLES):\n",
    "    sample_genered = { \n",
    "                \"water_flow\": 1,\n",
    "                \"temperature\": 1, \n",
    "                \"internal_pressure\": 1,\n",
    "                \"ph\": 1,\n",
    "                \"volume\": 1,\n",
    "                \"gas_production\": 1\n",
    "            }\n",
    "    all_samples.append(sample_genered)\n",
    "\n",
    "# for i in range(0, NUMBER_SAMPLES):\n",
    "#     sample_genered = { \n",
    "#                 \"water_flow\": water_flow_samples[i], \n",
    "#                 \"temperature\": temperature_samples[i], \n",
    "#                 \"internal_pressure\": internal_pressure_samples[i],\n",
    "#                 \"ph\": ph_samples[i],\n",
    "#                 \"volume\": volume_samples[i],\n",
    "#                 \"gas_production\": gas_production_samples[i]\n",
    "#             }\n",
    "#     all_samples.append(sample_genered)\n",
    "    \n",
    "print(all_samples)"
   ]
  },
  {
   "cell_type": "code",
   "execution_count": null,
   "metadata": {},
   "outputs": [],
   "source": [
    "response = requests.post(url_samples, json=all_samples)\n",
    "response.json()"
   ]
  },
  {
   "cell_type": "markdown",
   "metadata": {},
   "source": [
    "## Test prediction"
   ]
  },
  {
   "cell_type": "code",
   "execution_count": null,
   "metadata": {},
   "outputs": [],
   "source": [
    "sample_to_predict = [\n",
    "            { \n",
    "                \"water_flow\": 1, \n",
    "                \"temperature\": 1, \n",
    "                \"internal_pressure\": 1,\n",
    "                \"ph\": 1,\n",
    "                \"volume\": 1,\n",
    "                \"gas_production\": 1\n",
    "            }\n",
    "]\n",
    "\n",
    "response = requests.post(url_predict, json=sample_to_predict)\n",
    "response.json()"
   ]
  }
 ],
 "metadata": {
  "kernelspec": {
   "display_name": "Python 3",
   "language": "python",
   "name": "python3"
  },
  "language_info": {
   "codemirror_mode": {
    "name": "ipython",
    "version": 3
   },
   "file_extension": ".py",
   "mimetype": "text/x-python",
   "name": "python",
   "nbconvert_exporter": "python",
   "pygments_lexer": "ipython3",
   "version": "3.6.5"
  }
 },
 "nbformat": 4,
 "nbformat_minor": 2
}
